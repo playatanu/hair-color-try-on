{
 "cells": [
  {
   "cell_type": "code",
   "execution_count": 1,
   "metadata": {},
   "outputs": [
    {
     "data": {
      "text/plain": [
       "'c:\\\\Users\\\\atanu\\\\Documents\\\\models\\\\hair_color_try_on'"
      ]
     },
     "execution_count": 1,
     "metadata": {},
     "output_type": "execute_result"
    }
   ],
   "source": [
    "import os\n",
    "os.chdir(\"../\")\n",
    "%pwd"
   ]
  },
  {
   "cell_type": "code",
   "execution_count": 2,
   "metadata": {},
   "outputs": [],
   "source": [
    "import time\n",
    "import numpy as np\n",
    "import torch\n",
    "import onnx\n",
    "import onnxruntime\n",
    "from hair_segmentation.model import UNet\n",
    "from PIL import Image\n",
    "import matplotlib.pyplot as plt"
   ]
  },
  {
   "cell_type": "code",
   "execution_count": 3,
   "metadata": {},
   "outputs": [],
   "source": [
    "hair_seg_model_path = \"saved_models/hair_seg_model.pth\"\n",
    "save_dir = \"saved_models\"\n",
    "os.makedirs(save_dir, exist_ok=True) \n",
    "onnx_path = os.path.join(save_dir, \"hair_seg_model.onnx\")\n",
    "\n",
    "torch_model = UNet()\n",
    "torch_model.load_state_dict(torch.load(hair_seg_model_path, weights_only=True, map_location='cpu'))\n",
    "torch_model.eval()\n",
    "\n",
    "dummy_input = torch.randn(1, 3, 256, 256, requires_grad=True)\n",
    "\n",
    "torch.onnx.export(\n",
    "    torch_model, \n",
    "    dummy_input, \n",
    "    onnx_path, \n",
    "    export_params=True, \n",
    "    opset_version=11,  \n",
    "    do_constant_folding=True,\n",
    "    input_names=[\"input\"],  \n",
    "    output_names=[\"output\"], \n",
    "    dynamic_axes={\"input\": {0: \"batch_size\"}, \"output\": {0: \"batch_size\"}} \n",
    ")"
   ]
  },
  {
   "cell_type": "code",
   "execution_count": 4,
   "metadata": {},
   "outputs": [],
   "source": [
    "onnx_model = onnx.load(onnx_path)\n",
    "onnx.checker.check_model(onnx_model)"
   ]
  },
  {
   "cell_type": "code",
   "execution_count": 5,
   "metadata": {},
   "outputs": [
    {
     "name": "stdout",
     "output_type": "stream",
     "text": [
      "Exported model has been tested with ONNXRuntime, and the result looks good!\n"
     ]
    }
   ],
   "source": [
    "ort_session = onnxruntime.InferenceSession(onnx_path, providers=[\"CPUExecutionProvider\"])\n",
    "\n",
    "def to_numpy(tensor):\n",
    "    return tensor.detach().cpu().numpy() if tensor.requires_grad else tensor.cpu().numpy()\n",
    "\n",
    "# compute ONNX Runtime output prediction\n",
    "ort_inputs = {\"input\": to_numpy(dummy_input)}\n",
    "ort_output = ort_session.run(None, ort_inputs)\n",
    "\n",
    "# compare ONNX Runtime and PyTorch results\n",
    "torch_output = torch_model(dummy_input)\n",
    "np.testing.assert_allclose(to_numpy(torch_output), ort_output[0], rtol=1e-03, atol=1e-05)\n",
    "\n",
    "print(\"Exported model has been tested with ONNXRuntime, and the result looks good!\")"
   ]
  },
  {
   "cell_type": "markdown",
   "metadata": {},
   "source": [
    "### torch vs onnx"
   ]
  },
  {
   "cell_type": "code",
   "execution_count": 6,
   "metadata": {},
   "outputs": [
    {
     "name": "stdout",
     "output_type": "stream",
     "text": [
      "Inference of Pytorch model used 0.47780847549438477 seconds\n",
      "Inference of ONNX model used 0.4012570381164551 seconds\n"
     ]
    }
   ],
   "source": [
    "start = time.time()\n",
    "torch_output = torch_model(dummy_input)\n",
    "end = time.time()\n",
    "print(f\"Inference of Pytorch model used {end - start} seconds\")\n",
    "\n",
    "ort_inputs = {'input': to_numpy(dummy_input)}\n",
    "start = time.time()\n",
    "ort_outs = ort_session.run(None, ort_inputs)\n",
    "end = time.time()\n",
    "print(f\"Inference of ONNX model used {end - start} seconds\")"
   ]
  },
  {
   "cell_type": "markdown",
   "metadata": {},
   "source": [
    "## Test Onnxruntime for sample image"
   ]
  },
  {
   "cell_type": "code",
   "execution_count": 7,
   "metadata": {},
   "outputs": [
    {
     "name": "stdout",
     "output_type": "stream",
     "text": [
      "Tensor Shape: (1, 3, 256, 256)\n"
     ]
    }
   ],
   "source": [
    "image = Image.open(\"images/003.jpg\").convert(\"RGB\")\n",
    "image = image.resize((256, 256))\n",
    "\n",
    "image = np.array(image, dtype=np.float32) / 255.0  # Normalize\n",
    "\n",
    "# Transpose to (C, H, W)\n",
    "image = np.transpose(image, (2, 0, 1))\n",
    "\n",
    "# Add batch dimension\n",
    "tensor = np.expand_dims(image, axis=0)\n",
    "\n",
    "print(\"Tensor Shape:\", tensor.shape)"
   ]
  },
  {
   "cell_type": "code",
   "execution_count": 8,
   "metadata": {},
   "outputs": [
    {
     "data": {
      "image/png": "[encoded data removed]",
      "text/plain": [
       "<Figure size 640x480 with 1 Axes>"
      ]
     },
     "metadata": {},
     "output_type": "display_data"
    }
   ],
   "source": [
    "ort_session = onnxruntime.InferenceSession(onnx_path, providers=[\"CPUExecutionProvider\"])\n",
    "\n",
    "ort_inputs = {'input': tensor}\n",
    "\n",
    "outputs = ort_session.run(None, ort_inputs)\n",
    "\n",
    "output_image = outputs[0][0]\n",
    "\n",
    "out = Image.fromarray(np.uint8((output_image * 255.0).clip(0, 255)[0]), mode='L')\n",
    "\n",
    "plt.imshow(out, cmap='gray')\n",
    "plt.show()"
   ]
  }
 ],
 "metadata": {
  "kernelspec": {
   "display_name": "Python 3",
   "language": "python",
   "name": "python3"
  },
  "language_info": {
   "codemirror_mode": {
    "name": "ipython",
    "version": 3
   },
   "file_extension": ".py",
   "mimetype": "text/x-python",
   "name": "python",
   "nbconvert_exporter": "python",
   "pygments_lexer": "ipython3",
   "version": "3.12.9"
  }
 },
 "nbformat": 4,
 "nbformat_minor": 2
}
